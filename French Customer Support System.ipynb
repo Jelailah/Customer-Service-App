{
 "cells": [
  {
   "cell_type": "code",
   "execution_count": 1,
   "metadata": {},
   "outputs": [],
   "source": [
    "import requests\n",
    "import json\n",
    "\n",
    "user_complaints = {}"
   ]
  },
  {
   "cell_type": "code",
   "execution_count": 2,
   "metadata": {},
   "outputs": [],
   "source": [
    "#record user complain\n",
    "def user(user_complaints):\n",
    "    username = input(\"What's your name? \")\n",
    "    welcome = 'Welcome {}! How may I help you today?'.format(username)\n",
    "    complain = input(\"Please enter your complaint\")\n",
    "    response = \"Your complain has been submitted and a customer support representative will get back to you. Thank you for your patience.\"\n",
    "    user_complaints[username] = complain\n",
    "    return user_complaints\n",
    "    \n",
    "#detect language\n",
    "def detect(complain):\n",
    "    complain = complain.replace(\" \", \"%20\")\n",
    "    url = \"https://google-translate1.p.rapidapi.com/language/translate/v2/detect\"\n",
    "\n",
    "    payload = \"q={}\".format(complain)\n",
    "    headers = {\n",
    "        'content-type': \"application/x-www-form-urlencoded\",\n",
    "        'accept-encoding': \"application/gzip\",\n",
    "        'x-rapidapi-key': \"dd73f97d50msh50271603b0c3fd0p1e6579jsn65e1574aabdd\",\n",
    "        'x-rapidapi-host': \"google-translate1.p.rapidapi.com\"\n",
    "        }\n",
    "\n",
    "    response = requests.request(\"POST\", url, data=payload, headers=headers)\n",
    "    lang = response.text\n",
    "    lang = json.loads(lang)\n",
    "    return lang['data']['detections'][0][0]['language']\n",
    "\n",
    "#translate complain\n",
    "def translate(complain, trans):\n",
    "    complain = complain.replace(\" \", \"%20\")\n",
    "    url = \"https://google-translate1.p.rapidapi.com/language/translate/v2\"\n",
    "\n",
    "    payload = \"q={}&target={}\".format(complain, trans)\n",
    "    headers = {\n",
    "        'content-type': \"application/x-www-form-urlencoded\",\n",
    "        'accept-encoding': \"application/gzip\",\n",
    "        'x-rapidapi-key': \"dd73f97d50msh50271603b0c3fd0p1e6579jsn65e1574aabdd\",\n",
    "        'x-rapidapi-host': \"google-translate1.p.rapidapi.com\"\n",
    "        }\n",
    "\n",
    "    response = requests.request(\"POST\", url, data=payload, headers=headers)\n",
    "    trans = response.text\n",
    "    trans = json.loads(trans)\n",
    "    return trans['data']['translations'][0]['translatedText']\n",
    "\n",
    "#the team\n",
    "def team(user_complaints):\n",
    "    print(\"Hey! Here are the unattended user complaints\", user_complaints)\n",
    "    choice = input(\"Enter a customer's name to attend to their complaint\")\n",
    "    complaint = user_complaints[choice]\n",
    "    language = detect(complaint)\n",
    "    print(\"This complaint is in \", language)\n",
    "    trans = input(\"What language would you like to translate it to?\")\n",
    "    translation = translate(complaint, trans)\n",
    "    return translation"
   ]
  },
  {
   "cell_type": "code",
   "execution_count": 3,
   "metadata": {},
   "outputs": [
    {
     "name": "stdout",
     "output_type": "stream",
     "text": [
      "What's your name? Alex\n",
      "Please enter your complaintBonjour\n"
     ]
    },
    {
     "data": {
      "text/plain": [
       "{'Alex': 'Bonjour'}"
      ]
     },
     "execution_count": 3,
     "metadata": {},
     "output_type": "execute_result"
    }
   ],
   "source": [
    "user(user_complaints)"
   ]
  },
  {
   "cell_type": "code",
   "execution_count": 4,
   "metadata": {},
   "outputs": [
    {
     "name": "stdout",
     "output_type": "stream",
     "text": [
      "Hey! Here are the unattended user complaints {'Alex': 'Bonjour'}\n",
      "Enter a customer's name to attend to their complaintAlex\n",
      "This complaint is in  fr\n",
      "What language would you like to translate it to?en\n"
     ]
    },
    {
     "data": {
      "text/plain": [
       "'Hello'"
      ]
     },
     "execution_count": 4,
     "metadata": {},
     "output_type": "execute_result"
    }
   ],
   "source": [
    "team(user_complaints)"
   ]
  },
  {
   "cell_type": "code",
   "execution_count": 5,
   "metadata": {},
   "outputs": [
    {
     "name": "stdout",
     "output_type": "stream",
     "text": [
      "What's your name? Frank\n",
      "Please enter your complaintÀ tout à l'heure!\n"
     ]
    },
    {
     "data": {
      "text/plain": [
       "{'Alex': 'Bonjour', 'Frank': \"À tout à l'heure!\"}"
      ]
     },
     "execution_count": 5,
     "metadata": {},
     "output_type": "execute_result"
    }
   ],
   "source": [
    "user(user_complaints)"
   ]
  },
  {
   "cell_type": "code",
   "execution_count": 6,
   "metadata": {},
   "outputs": [
    {
     "name": "stdout",
     "output_type": "stream",
     "text": [
      "Hey! Here are the unattended user complaints {'Alex': 'Bonjour', 'Frank': \"À tout à l'heure!\"}\n",
      "Enter a customer's name to attend to their complaintFrank\n",
      "This complaint is in  fr\n",
      "What language would you like to translate it to?fr\n"
     ]
    },
    {
     "data": {
      "text/plain": [
       "\"  tout   l'heure!\""
      ]
     },
     "execution_count": 6,
     "metadata": {},
     "output_type": "execute_result"
    }
   ],
   "source": [
    "team(user_complaints)"
   ]
  }
 ],
 "metadata": {
  "kernelspec": {
   "display_name": "Python 3",
   "language": "python",
   "name": "python3"
  },
  "language_info": {
   "codemirror_mode": {
    "name": "ipython",
    "version": 3
   },
   "file_extension": ".py",
   "mimetype": "text/x-python",
   "name": "python",
   "nbconvert_exporter": "python",
   "pygments_lexer": "ipython3",
   "version": "3.8.5"
  }
 },
 "nbformat": 4,
 "nbformat_minor": 4
}
